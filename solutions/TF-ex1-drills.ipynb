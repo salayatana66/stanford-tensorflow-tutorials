{
 "cells": [
  {
   "cell_type": "code",
   "execution_count": 1,
   "metadata": {
    "collapsed": true
   },
   "outputs": [],
   "source": [
    "import tensorflow as tf"
   ]
  },
  {
   "cell_type": "code",
   "execution_count": 2,
   "metadata": {
    "collapsed": true
   },
   "outputs": [],
   "source": [
    "###############################################################################\n",
    "# 1a: Create two random 0-d tensors x and y of any distribution.\n",
    "# Create a TensorFlow object that returns x + y if x > y, and x - y otherwise.\n",
    "# Hint: look up tf.cond()\n",
    "# I do the first problem for you\n",
    "###############################################################################"
   ]
  },
  {
   "cell_type": "code",
   "execution_count": 3,
   "metadata": {
    "collapsed": false
   },
   "outputs": [],
   "source": [
    "x = tf.random_uniform(shape=[10], minval=0, maxval=1.0, \n",
    "                      dtype=tf.float32, seed=125, name='X')\n",
    "y = tf.random_uniform(shape=[10], minval = 0, maxval = 1.0, dtype = tf.float32,\n",
    "                     seed = 33, name = 'Y')\n",
    "comparison = tf.where(tf.greater(x,y), x = tf.add(x, y), y = tf.subtract(x, y), \n",
    "                      name = 'condition')"
   ]
  },
  {
   "cell_type": "code",
   "execution_count": 4,
   "metadata": {
    "collapsed": false
   },
   "outputs": [
    {
     "name": "stdout",
     "output_type": "stream",
     "text": [
      "[array([ 0.28615248,  0.96822393,  0.17870843,  0.87988698,  0.09727454,\n",
      "        0.46245158,  0.82588065,  0.16126847,  0.29832828,  0.95451784], dtype=float32), array([ 0.05454671,  0.32781899,  0.19744873,  0.73043966,  0.94582987,\n",
      "        0.15157604,  0.76446605,  0.21702075,  0.51217759,  0.60553586], dtype=float32), array([ 0.3406992 ,  1.29604292, -0.0187403 ,  1.61032665, -0.84855533,\n",
      "        0.61402762,  1.59034669, -0.05575228, -0.21384931,  1.56005371], dtype=float32)]\n"
     ]
    }
   ],
   "source": [
    "with tf.Session() as sess:\n",
    "    writer  =  tf.summary.FileWriter ( './tfGraphs' ,  sess.graph)\n",
    "    print sess.run([x,y,comparison])\n",
    "    writer.close()"
   ]
  },
  {
   "cell_type": "code",
   "execution_count": null,
   "metadata": {
    "collapsed": true
   },
   "outputs": [],
   "source": [
    "###############################################################################\n",
    "# 1b: Create two 0-d tensors x and y randomly selected from the range [-1, 1).\n",
    "# Return x + y if x < y, x - y if x > y, 0 otherwise.\n",
    "# Hint: Look up tf.case().\n",
    "###############################################################################"
   ]
  },
  {
   "cell_type": "code",
   "execution_count": 31,
   "metadata": {
    "collapsed": false
   },
   "outputs": [],
   "source": [
    "x = tf.random_uniform(shape=[], minval=-1.0, maxval=1.0, \n",
    "                      dtype=tf.float32, seed=11, name='X')\n",
    "y = tf.random_uniform(shape=[], minval = -1.0, maxval = 1.0, dtype = tf.float32,\n",
    "                      seed=11,name = 'Y')\n",
    "#pair = tf.tuple()\n",
    "case = tf.case({tf.less(x,y) : lambda: tf.add(x,y),\n",
    "               tf.greater(x,y) : lambda: tf.subtract(x,y)}, default = lambda: tf.constant(0.0), \n",
    "                      name = 'condition',exclusive = True)"
   ]
  },
  {
   "cell_type": "code",
   "execution_count": 32,
   "metadata": {
    "collapsed": false
   },
   "outputs": [
    {
     "name": "stdout",
     "output_type": "stream",
     "text": [
      "[-0.82089829, -0.82089829, 0.0]\n"
     ]
    }
   ],
   "source": [
    "with tf.Session() as sess:\n",
    "    writer  =  tf.summary.FileWriter ( './tfGraphs' ,  sess.graph)\n",
    "    print sess.run([x,y,case])\n",
    "    writer.close()"
   ]
  },
  {
   "cell_type": "code",
   "execution_count": null,
   "metadata": {
    "collapsed": true
   },
   "outputs": [],
   "source": [
    "###############################################################################\n",
    "# 1c: Create the tensor x of the value [[0, -2, -1], [0, 1, 2]] \n",
    "# and y as a tensor of zeros with the same shape as x.\n",
    "# Return a boolean tensor that yields Trues if x equals y element-wise.\n",
    "# Hint: Look up tf.equal().\n",
    "###############################################################################"
   ]
  },
  {
   "cell_type": "code",
   "execution_count": 40,
   "metadata": {
    "collapsed": false
   },
   "outputs": [],
   "source": [
    "x = tf.constant([[0, -2, -1], [0, 1, 2]] , dtype =tf.int8, name = 'x')\n",
    "y = tf.zeros_like(x, dtype = tf.int8, name = 'y')\n",
    "equality = tf.equal(x,y)"
   ]
  },
  {
   "cell_type": "code",
   "execution_count": 41,
   "metadata": {
    "collapsed": false
   },
   "outputs": [
    {
     "name": "stdout",
     "output_type": "stream",
     "text": [
      "[[ True False False]\n",
      " [ True False False]]\n"
     ]
    }
   ],
   "source": [
    "with tf.Session() as sess:\n",
    "    writer  =  tf.summary.FileWriter ( './tfGraphs' ,  sess.graph)\n",
    "    print sess.run(equality)\n",
    "    writer.close()"
   ]
  },
  {
   "cell_type": "code",
   "execution_count": 42,
   "metadata": {
    "collapsed": true
   },
   "outputs": [],
   "source": [
    "###############################################################################\n",
    "# 1d: Create the tensor x of value \n",
    "# [29.05088806,  27.61298943,  31.19073486,  29.35532951,\n",
    "#  30.97266006,  26.67541885,  38.08450317,  20.74983215,\n",
    "#  34.94445419,  34.45999146,  29.06485367,  36.01657104,\n",
    "#  27.88236427,  20.56035233,  30.20379066,  29.51215172,\n",
    "#  33.71149445,  28.59134293,  36.05556488,  28.66994858].\n",
    "# Get the indices of elements in x whose values are greater than 30.\n",
    "# Hint: Use tf.where().\n",
    "# Then extract elements whose values are greater than 30.\n",
    "# Hint: Use tf.gather().\n",
    "###############################################################################"
   ]
  },
  {
   "cell_type": "code",
   "execution_count": 48,
   "metadata": {
    "collapsed": false
   },
   "outputs": [],
   "source": [
    "x = tf.constant([29.05088806,  27.61298943,  31.19073486,  29.35532951,\n",
    "                 30.97266006,  26.67541885,  38.08450317,  20.74983215,\n",
    "                 34.94445419,  34.45999146,  29.06485367,  36.01657104,\n",
    "                 27.88236427,  20.56035233,  30.20379066,  29.51215172,\n",
    "                 33.71149445,  28.59134293,  36.05556488,  28.66994858],\n",
    "               dtype=tf.float32, name = 'X')\n",
    "indices_more_30 = tf.where(tf.greater(x,tf.constant(30.0)))\n",
    "gather_more_30 = tf.gather(x,indices=indices_more_30)"
   ]
  },
  {
   "cell_type": "code",
   "execution_count": 49,
   "metadata": {
    "collapsed": false
   },
   "outputs": [
    {
     "name": "stdout",
     "output_type": "stream",
     "text": [
      "[array([[ 2],\n",
      "       [ 4],\n",
      "       [ 6],\n",
      "       [ 8],\n",
      "       [ 9],\n",
      "       [11],\n",
      "       [14],\n",
      "       [16],\n",
      "       [18]]), array([[ 31.19073486],\n",
      "       [ 30.97266006],\n",
      "       [ 38.08450317],\n",
      "       [ 34.94445419],\n",
      "       [ 34.45999146],\n",
      "       [ 36.01657104],\n",
      "       [ 30.20379066],\n",
      "       [ 33.71149445],\n",
      "       [ 36.05556488]], dtype=float32)]\n"
     ]
    }
   ],
   "source": [
    "with tf.Session() as sess:\n",
    "    writer  =  tf.summary.FileWriter ( './tfGraphs' ,  sess.graph)\n",
    "    print sess.run([indices_more_30,gather_more_30])\n",
    "    writer.close()"
   ]
  },
  {
   "cell_type": "code",
   "execution_count": 50,
   "metadata": {
    "collapsed": false
   },
   "outputs": [
    {
     "data": {
      "text/plain": [
       "<tf.Tensor 'Greater_13:0' shape=(20,) dtype=bool>"
      ]
     },
     "execution_count": 50,
     "metadata": {},
     "output_type": "execute_result"
    }
   ],
   "source": [
    "## !! also a possibility for comparisons \n",
    "x > 30"
   ]
  },
  {
   "cell_type": "code",
   "execution_count": 51,
   "metadata": {
    "collapsed": true
   },
   "outputs": [],
   "source": [
    "###############################################################################\n",
    "# 1e: Create a diagnoal 2-d tensor of size 6 x 6 with the diagonal values of 1,\n",
    "# 2, ..., 6\n",
    "# Hint: Use tf.range() and tf.diag().\n",
    "###############################################################################"
   ]
  },
  {
   "cell_type": "code",
   "execution_count": 57,
   "metadata": {
    "collapsed": false
   },
   "outputs": [],
   "source": [
    "x = tf.diag(tf.range(start=1,limit=7))"
   ]
  },
  {
   "cell_type": "code",
   "execution_count": 58,
   "metadata": {
    "collapsed": false
   },
   "outputs": [
    {
     "name": "stdout",
     "output_type": "stream",
     "text": [
      "[[1 0 0 0 0 0]\n",
      " [0 2 0 0 0 0]\n",
      " [0 0 3 0 0 0]\n",
      " [0 0 0 4 0 0]\n",
      " [0 0 0 0 5 0]\n",
      " [0 0 0 0 0 6]]\n"
     ]
    }
   ],
   "source": [
    "with tf.Session() as sess:\n",
    "    writer  =  tf.summary.FileWriter ( './tfGraphs' ,  sess.graph)\n",
    "    print sess.run(x)\n",
    "    writer.close()"
   ]
  },
  {
   "cell_type": "code",
   "execution_count": 53,
   "metadata": {
    "collapsed": true
   },
   "outputs": [],
   "source": [
    "###############################################################################\n",
    "# 1f: Create a random 2-d tensor of size 10 x 10 from any distribution.\n",
    "# Calculate its determinant.\n",
    "# Hint: Look at tf.matrix_determinant().\n",
    "###############################################################################"
   ]
  },
  {
   "cell_type": "code",
   "execution_count": 65,
   "metadata": {
    "collapsed": false
   },
   "outputs": [],
   "source": [
    "x = tf.random_gamma(shape=[10,10],alpha=2.0,beta=2.5,name='X')\n",
    "determinant = tf.matrix_determinant(x)"
   ]
  },
  {
   "cell_type": "code",
   "execution_count": 67,
   "metadata": {
    "collapsed": false
   },
   "outputs": [
    {
     "name": "stdout",
     "output_type": "stream",
     "text": [
      "[[ 0.80692804  0.3741377   0.4623805   0.1549596   0.93460637  0.42806253\n",
      "   0.4993287   0.1744357   0.64519316  1.41615546]\n",
      " [ 0.56360704  0.73262393  0.37322125  0.87185591  0.62820095  0.34388787\n",
      "   1.75967383  1.06596017  1.46449804  0.20796402]\n",
      " [ 0.57885897  0.2415435   0.29209411  0.94754255  0.81880027  0.37840807\n",
      "   0.69699937  1.01190186  1.6937058   0.36817667]\n",
      " [ 0.33718824  0.41436052  0.25450772  0.65604156  1.80764866  1.06091857\n",
      "   1.23130322  1.45585608  0.73065937  0.56665683]\n",
      " [ 1.03430712  1.28045988  0.87275064  0.77493787  1.80405486  0.28444278\n",
      "   0.11120697  0.40091261  1.11819243  1.30559754]\n",
      " [ 0.58973056  0.1718674   1.18047154  1.21719456  0.44118699  0.19843915\n",
      "   0.3305282   0.23890701  0.73479825  0.40973538]\n",
      " [ 0.25493842  0.53213382  1.34317994  2.97683692  1.04615188  0.3719629\n",
      "   0.62576157  0.68872076  0.98723173  0.77763903]\n",
      " [ 0.71731997  0.90300703  0.82966727  0.58443296  0.88604707  0.52952087\n",
      "   0.84950173  0.62834471  0.1522111   1.17506146]\n",
      " [ 1.44852328  0.46712366  0.76780862  0.76004136  1.94484711  0.56101996\n",
      "   0.42959714  0.24456346  0.63152653  1.32031786]\n",
      " [ 0.72608203  0.947532    0.15590176  0.58688229  0.64585721  0.20753081\n",
      "   0.53735888  0.53369194  0.71724737  0.72589797]]\n",
      "-0.430209\n"
     ]
    }
   ],
   "source": [
    "with tf.Session() as sess:\n",
    "    writer  =  tf.summary.FileWriter ( './tfGraphs' ,  sess.graph)\n",
    "    l =  sess.run([x, determinant])\n",
    "    print l[0]\n",
    "    print l[1]\n",
    "    writer.close()"
   ]
  },
  {
   "cell_type": "code",
   "execution_count": 68,
   "metadata": {
    "collapsed": false
   },
   "outputs": [],
   "source": [
    "###############################################################################\n",
    "# 1g: Create tensor x with value [5, 2, 3, 5, 10, 6, 2, 3, 4, 2, 1, 1, 0, 9].\n",
    "# Return the unique elements in x\n",
    "# Hint: use tf.unique(). Keep in mind that tf.unique() returns a tuple.\n",
    "###############################################################################"
   ]
  },
  {
   "cell_type": "code",
   "execution_count": 71,
   "metadata": {
    "collapsed": true
   },
   "outputs": [],
   "source": [
    "x = tf.constant([5, 2, 3, 5, 10, 6, 2, 3, 4, 2, 1, 1, 0, 9],name='X')\n",
    "unique_x = tf.unique(x,name='uniqueX')[0]"
   ]
  },
  {
   "cell_type": "code",
   "execution_count": 72,
   "metadata": {
    "collapsed": false
   },
   "outputs": [
    {
     "name": "stdout",
     "output_type": "stream",
     "text": [
      "[ 5  2  3 10  6  4  1  0  9]\n"
     ]
    }
   ],
   "source": [
    "with tf.Session() as sess:\n",
    "    writer  =  tf.summary.FileWriter ( './tfGraphs' ,  sess.graph)\n",
    "    print sess.run(unique_x)\n",
    "    writer.close()"
   ]
  },
  {
   "cell_type": "code",
   "execution_count": 73,
   "metadata": {
    "collapsed": false
   },
   "outputs": [
    {
     "data": {
      "text/plain": [
       "<tf.Tensor 'uniqueX_1:0' shape=(?,) dtype=int32>"
      ]
     },
     "execution_count": 73,
     "metadata": {},
     "output_type": "execute_result"
    }
   ],
   "source": [
    "unique_x # still a tensor from the tuple"
   ]
  },
  {
   "cell_type": "code",
   "execution_count": 74,
   "metadata": {
    "collapsed": true
   },
   "outputs": [],
   "source": [
    "###############################################################################\n",
    "# 1h: Create two tensors x and y of shape 300 from any normal distribution,\n",
    "# as long as they are from the same distribution.\n",
    "# Use tf.cond() to return:\n",
    "# - The mean squared error of (x - y) if the average of all elements in (x - y)\n",
    "#   is negative, or => interpreted as a standard deviation\n",
    "# - The sum of absolute value of all elements in the tensor (x - y) otherwise.\n",
    "# Hint: see the Huber loss function in the lecture slides 3.\n",
    "###############################################################################"
   ]
  },
  {
   "cell_type": "code",
   "execution_count": 82,
   "metadata": {
    "collapsed": false
   },
   "outputs": [],
   "source": [
    "x = tf.random_normal([300], mean=0.0, stddev=1.0,name='x')\n",
    "y = tf.random_normal([300], mean=0.0, stddev=1.0,name='y')\n",
    "xyDiff = tf.subtract(x,y,name='xyDiff')\n",
    "output = tf.cond(tf.reduce_mean(xyDiff) < 0, \n",
    "                 lambda: tf.reduce_mean(tf.pow(\n",
    "                        xyDiff-tf.reduce_mean(xyDiff),2.0)),\n",
    "                lambda: tf.reduce_sum(tf.abs(xyDiff)))"
   ]
  },
  {
   "cell_type": "code",
   "execution_count": 89,
   "metadata": {
    "collapsed": false
   },
   "outputs": [
    {
     "name": "stdout",
     "output_type": "stream",
     "text": [
      "1.9347\n"
     ]
    }
   ],
   "source": [
    "with tf.Session() as sess:\n",
    "    writer  =  tf.summary.FileWriter ( './tfGraphs' ,  sess.graph)\n",
    "    print sess.run(output)\n",
    "    writer.close()"
   ]
  },
  {
   "cell_type": "code",
   "execution_count": null,
   "metadata": {
    "collapsed": true
   },
   "outputs": [],
   "source": [
    "# the ''official'' solution\n",
    "x = tf.random_normal([300], mean=5, stddev=1)\n",
    "y = tf.random_normal([300], mean=5, stddev=1)\n",
    "average = tf.reduce_mean(x - y)\n",
    "def f1(): return tf.reduce_mean(tf.square(x - y))\n",
    "def f2(): return tf.reduce_sum(tf.abs(x - y))\n",
    "out = tf.cond(average < 0, f1, f2)"
   ]
  }
 ],
 "metadata": {
  "kernelspec": {
   "display_name": "Python 2.7 (no Spark)",
   "language": "python2",
   "name": "python2"
  },
  "language_info": {
   "codemirror_mode": {
    "name": "ipython",
    "version": 2
   },
   "file_extension": ".py",
   "mimetype": "text/x-python",
   "name": "python",
   "nbconvert_exporter": "python",
   "pygments_lexer": "ipython2",
   "version": "2.7.13"
  }
 },
 "nbformat": 4,
 "nbformat_minor": 2
}
