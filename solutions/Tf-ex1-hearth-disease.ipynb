{
 "cells": [
  {
   "cell_type": "code",
   "execution_count": 1,
   "metadata": {
    "collapsed": true
   },
   "outputs": [],
   "source": [
    "import numpy as np"
   ]
  },
  {
   "cell_type": "code",
   "execution_count": 9,
   "metadata": {
    "collapsed": false
   },
   "outputs": [],
   "source": [
    "# Reading the data\n",
    "data_lines = []\n",
    "with open('/home/aschioppa/heart.txt','rt') as myFile:\n",
    "    first_line = True\n",
    "    for l in myFile:\n",
    "        values = l.strip().split('\\t')\n",
    "        if first_line:\n",
    "            names = values\n",
    "            first_line = False\n",
    "        else:\n",
    "            data_lines.append(values)    "
   ]
  },
  {
   "cell_type": "code",
   "execution_count": 14,
   "metadata": {
    "collapsed": false
   },
   "outputs": [
    {
     "name": "stdout",
     "output_type": "stream",
     "text": [
      "0 \"sbp\"\n",
      "1 \"tobacco\"\n",
      "2 \"ldl\"\n",
      "3 \"adiposity\"\n",
      "4 \"famhist\"\n",
      "5 \"typea\"\n",
      "6 \"obesity\"\n",
      "7 \"alcohol\"\n",
      "8 \"age\"\n",
      "9 \"chd\"\n"
     ]
    }
   ],
   "source": [
    "for i,k in enumerate(names):\n",
    "    print i, k"
   ]
  },
  {
   "cell_type": "code",
   "execution_count": 22,
   "metadata": {
    "collapsed": false
   },
   "outputs": [],
   "source": [
    "# Putting the data in numpy frames\n",
    "dataX = np.zeros((len(data_lines),9),dtype=np.float32)\n",
    "dataY = np.zeros(len(data_lines),dtype=np.float32)\n",
    "for i,l in enumerate(data_lines):\n",
    "    for j, v in enumerate(l):\n",
    "        if j != 4 and j < 9:\n",
    "            dataX[i,j] = float(v)\n",
    "        elif j < 9 and j == 4 :\n",
    "            if v == '\"Present\"':\n",
    "                dataX[i,j] = 1.0\n",
    "            else:\n",
    "                dataX[i,j] = 0.0\n",
    "        else:\n",
    "            dataY[i] = float(v)"
   ]
  },
  {
   "cell_type": "code",
   "execution_count": 34,
   "metadata": {
    "collapsed": false
   },
   "outputs": [
    {
     "data": {
      "text/plain": [
       "(462, 9)"
      ]
     },
     "execution_count": 34,
     "metadata": {},
     "output_type": "execute_result"
    }
   ],
   "source": [
    "# minibatch descent does not make any sense\n",
    "dataX.shape"
   ]
  },
  {
   "cell_type": "code",
   "execution_count": 30,
   "metadata": {
    "collapsed": false
   },
   "outputs": [],
   "source": [
    "# train-test split\n",
    "np.random.seed(2017)\n",
    "permIdx = np.random.permutation(np.arange(dataX.shape[0]))\n",
    "trainIdx = permIdx[:int(np.ceil(.80*dataX.shape[0]))]\n",
    "testIdx = permIdx[trainIdx.shape[0]:]"
   ]
  },
  {
   "cell_type": "code",
   "execution_count": 594,
   "metadata": {
    "collapsed": true
   },
   "outputs": [],
   "source": [
    "for l in xrange(dataX.shape[1]):\n",
    "    dataX[:,l] = (dataX[:,l] - np.mean(dataX[:,l]))/np.std(dataX[:,l])"
   ]
  },
  {
   "cell_type": "code",
   "execution_count": 35,
   "metadata": {
    "collapsed": false
   },
   "outputs": [],
   "source": [
    "import tensorflow as tf"
   ]
  },
  {
   "cell_type": "code",
   "execution_count": 595,
   "metadata": {
    "collapsed": true
   },
   "outputs": [],
   "source": [
    "X = tf.placeholder(tf.float32, shape = dataX.shape[1], name = 'X')\n",
    "Y = tf.placeholder(tf.float32, name = 'Y')"
   ]
  },
  {
   "cell_type": "code",
   "execution_count": 596,
   "metadata": {
    "collapsed": false
   },
   "outputs": [],
   "source": [
    "w = tf.Variable(tf.zeros(shape=[dataX.shape[1]]),tf.float32, name = 'w')\n",
    "Q_inter = tf.Variable(tf.zeros(shape=[dataX.shape[1],dataX.shape[1]]))\n",
    "b = tf.Variable(0.0, tf.float32, name = 'b')"
   ]
  },
  {
   "cell_type": "code",
   "execution_count": 601,
   "metadata": {
    "collapsed": false
   },
   "outputs": [],
   "source": [
    "exp_logit = tf.reshape(tf.exp(tf.constant(-1.0,tf.float32)*(tf.reduce_sum(tf.multiply(w,X))+b\n",
    "                                                +tf.matmul(tf.matmul(\n",
    "        tf.reshape(X,shape=(1,dataX.shape[1])),Q_inter\n",
    "        ),tf.reshape(X,shape=(dataX.shape[1],1))))),shape=())"
   ]
  },
  {
   "cell_type": "code",
   "execution_count": 602,
   "metadata": {
    "collapsed": false
   },
   "outputs": [],
   "source": [
    "loss = tf.constant(-1.0,tf.float32)*(Y*tf.log(1.0/(1.0+exp_logit)) +\n",
    "                                     (tf.constant(1.0,tf.float32)-Y)*tf.log(\n",
    "        tf.constant(1.0,tf.float32)- 1.0/(1.0+exp_logit)))"
   ]
  },
  {
   "cell_type": "code",
   "execution_count": 605,
   "metadata": {
    "collapsed": false
   },
   "outputs": [],
   "source": [
    "optimizer = tf.train.GradientDescentOptimizer(learning_rate=1e-3).minimize(loss)"
   ]
  },
  {
   "cell_type": "code",
   "execution_count": 606,
   "metadata": {
    "collapsed": false
   },
   "outputs": [
    {
     "name": "stdout",
     "output_type": "stream",
     "text": [
      "Average loss epoch 0: 0.646517273018\n",
      "Average loss epoch 1: 0.591482902942\n",
      "Average loss epoch 2: 0.564227269932\n",
      "Average loss epoch 3: 0.546528698071\n",
      "Average loss epoch 4: 0.533925185856\n",
      "Average loss epoch 5: 0.524417186247\n",
      "Average loss epoch 6: 0.516945582638\n",
      "Average loss epoch 7: 0.510891126947\n",
      "Average loss epoch 8: 0.505865685914\n",
      "Average loss epoch 9: 0.501612872625\n"
     ]
    }
   ],
   "source": [
    "n_epochs=10\n",
    "loss_list=[]\n",
    "with tf.Session() as sess:\n",
    "    sess.run(tf.global_variables_initializer())\t\n",
    "    for i in range(n_epochs): # train the model n_epochs times\n",
    "        total_loss = 0.0\n",
    "        writer = tf.summary.FileWriter('./graphs/linear_reg', sess.graph)\n",
    "        for l in trainIdx:\n",
    "        # TO-DO: run optimizer + fetch loss_batch\n",
    "            _,loss_item = sess.run([optimizer,loss],feed_dict = {X : dataX[l,:], Y : \n",
    "                                                             dataY[l]})\n",
    "\n",
    "            total_loss += loss_item\n",
    "        print('Average loss epoch {0}: {1}'.format(i, total_loss/len(trainIdx)))\n",
    "        loss_list.append(total_loss/len(trainIdx))\n",
    "    w_final, b_final, Q_final = sess.run([w,b,Q_inter])\n",
    "    writer.close()"
   ]
  },
  {
   "cell_type": "code",
   "execution_count": 497,
   "metadata": {
    "collapsed": true
   },
   "outputs": [],
   "source": [
    "import matplotlib.pyplot as plt\n",
    "%matplotlib inline"
   ]
  },
  {
   "cell_type": "code",
   "execution_count": 607,
   "metadata": {
    "collapsed": false
   },
   "outputs": [
    {
     "data": {
      "text/plain": [
       "[<matplotlib.lines.Line2D at 0x7f7b099f4690>]"
      ]
     },
     "execution_count": 607,
     "metadata": {},
     "output_type": "execute_result"
    },
    {
     "data": {
      "image/png": "[encoded data removed]",
      "text/plain": [
       "<matplotlib.figure.Figure at 0x7f7b0651fe50>"
      ]
     },
     "metadata": {},
     "output_type": "display_data"
    }
   ],
   "source": [
    "plt.plot(xrange(len(loss_list)),loss_list,'k.')"
   ]
  },
  {
   "cell_type": "code",
   "execution_count": 608,
   "metadata": {
    "collapsed": false
   },
   "outputs": [
    {
     "data": {
      "text/plain": [
       "array([ 0.16592151,  0.19659819,  0.18591745,  0.12823452,  0.25828993,\n",
       "        0.07252928, -0.01506092,  0.06254867,  0.26055053], dtype=float32)"
      ]
     },
     "execution_count": 608,
     "metadata": {},
     "output_type": "execute_result"
    }
   ],
   "source": [
    "w_final"
   ]
  },
  {
   "cell_type": "code",
   "execution_count": 610,
   "metadata": {
    "collapsed": false
   },
   "outputs": [
    {
     "data": {
      "text/plain": [
       "-0.22066577"
      ]
     },
     "execution_count": 610,
     "metadata": {},
     "output_type": "execute_result"
    }
   ],
   "source": [
    "b_final"
   ]
  },
  {
   "cell_type": "code",
   "execution_count": 611,
   "metadata": {
    "collapsed": false
   },
   "outputs": [
    {
     "data": {
      "text/plain": [
       "array([[ 0.0145452 ,  0.01196336,  0.03739105, -0.04233496,  0.03006233,\n",
       "        -0.00860426, -0.02419513, -0.01446278, -0.00909479],\n",
       "       [ 0.01196337,  0.08180189, -0.02989245,  0.01508842,  0.01420846,\n",
       "        -0.0645218 ,  0.00343831, -0.01776173, -0.02330137],\n",
       "       [ 0.03739106, -0.02989244, -0.0032475 ,  0.04502847,  0.0994179 ,\n",
       "         0.00813584,  0.03164096, -0.07021055,  0.00831294],\n",
       "       [-0.04233496,  0.01508843,  0.04502847, -0.08869957, -0.00263365,\n",
       "         0.03389038, -0.01454677, -0.08633513, -0.07601654],\n",
       "       [ 0.03006234,  0.01420847,  0.09941792, -0.00263366, -0.13218103,\n",
       "        -0.01285496, -0.02899636,  0.08706722,  0.06347714],\n",
       "       [-0.00860426, -0.0645218 ,  0.00813585,  0.03389039, -0.01285496,\n",
       "        -0.05730579,  0.01664799, -0.07912271,  0.02323716],\n",
       "       [-0.02419513,  0.00343832,  0.03164096, -0.01454676, -0.02899638,\n",
       "         0.01664799, -0.00150436, -0.0705063 , -0.01573203],\n",
       "       [-0.01446278, -0.01776173, -0.07021055, -0.08633512,  0.08706723,\n",
       "        -0.07912271, -0.07050628, -0.0380284 , -0.0227483 ],\n",
       "       [-0.0090948 , -0.02330137,  0.00831295, -0.07601656,  0.06347713,\n",
       "         0.02323716, -0.01573203, -0.02274829, -0.16785327]], dtype=float32)"
      ]
     },
     "execution_count": 611,
     "metadata": {},
     "output_type": "execute_result"
    }
   ],
   "source": [
    "Q_final"
   ]
  },
  {
   "cell_type": "code",
   "execution_count": 612,
   "metadata": {
    "collapsed": true
   },
   "outputs": [],
   "source": [
    "X = tf.placeholder(tf.float32, shape = dataX.shape[1], name = 'X')\n",
    "Y = tf.placeholder(tf.float32, name = 'Y')"
   ]
  },
  {
   "cell_type": "code",
   "execution_count": 613,
   "metadata": {
    "collapsed": false
   },
   "outputs": [],
   "source": [
    "w = tf.Variable(tf.constant(w_final),tf.float32, name = 'w')\n",
    "b = tf.Variable(tf.constant(b_final), tf.float32, name = 'b')\n",
    "Q_inter = tf.Variable(tf.constant(Q_final,shape=(9,9)), tf.float32)"
   ]
  },
  {
   "cell_type": "code",
   "execution_count": 614,
   "metadata": {
    "collapsed": true
   },
   "outputs": [],
   "source": [
    "exp_logit = tf.reshape(tf.exp(tf.constant(-1.0,tf.float32)*(tf.reduce_sum(tf.multiply(w,X))+b\n",
    "                                                +tf.matmul(tf.matmul(\n",
    "        tf.reshape(X,shape=(1,dataX.shape[1])),Q_inter\n",
    "        ),tf.reshape(X,shape=(dataX.shape[1],1))))),shape=())"
   ]
  },
  {
   "cell_type": "code",
   "execution_count": 582,
   "metadata": {
    "collapsed": true
   },
   "outputs": [],
   "source": [
    "#exp_logit = tf.exp(tf.constant(-1.0,tf.float32)*(tf.reduce_sum(tf.multiply(w,X))+b))"
   ]
  },
  {
   "cell_type": "code",
   "execution_count": 615,
   "metadata": {
    "collapsed": false
   },
   "outputs": [
    {
     "name": "stdout",
     "output_type": "stream",
     "text": [
      "Accuracy 0.764864864865\n"
     ]
    }
   ],
   "source": [
    "# test the model\n",
    "sess = tf.Session()\n",
    "sess.run(tf.global_variables_initializer())\n",
    "pred = tf.cond(1.0/(1+exp_logit) > .5, lambda: 1.0, lambda: 0.0)\n",
    "correct_preds = tf.equal(pred, Y)\n",
    "accuracy = tf.reduce_sum(tf.cast(correct_preds, tf.float32)) # need numpy.count_nonzero(boolarr) :(\n",
    "total_correct = 0.0\n",
    "for l in trainIdx:\n",
    "    accuracy_val = sess.run(accuracy, feed_dict={X: dataX[l,:], Y:dataY[l]}) \n",
    "    total_correct += accuracy_val\n",
    "\n",
    "print('Accuracy {0}'.format(total_correct/len(trainIdx)))\n",
    "sess.close()"
   ]
  },
  {
   "cell_type": "code",
   "execution_count": 616,
   "metadata": {
    "collapsed": false
   },
   "outputs": [
    {
     "data": {
      "text/plain": [
       "0.66216215491294861"
      ]
     },
     "execution_count": 616,
     "metadata": {},
     "output_type": "execute_result"
    }
   ],
   "source": [
    "1-dataY[trainIdx].mean()"
   ]
  },
  {
   "cell_type": "code",
   "execution_count": 617,
   "metadata": {
    "collapsed": false
   },
   "outputs": [
    {
     "name": "stdout",
     "output_type": "stream",
     "text": [
      "Accuracy 0.673913043478\n"
     ]
    }
   ],
   "source": [
    "# test the model\n",
    "sess = tf.Session()\n",
    "sess.run(tf.global_variables_initializer())\n",
    "pred = tf.cond(1.0/(1+exp_logit) > .5, lambda: 1.0, lambda: 0.0)\n",
    "correct_preds = tf.equal(pred, Y)\n",
    "accuracy = tf.reduce_sum(tf.cast(correct_preds, tf.float32)) # need numpy.count_nonzero(boolarr) :(\n",
    "total_correct = 0.0\n",
    "for l in testIdx:\n",
    "    accuracy_val = sess.run(accuracy, feed_dict={X: dataX[l,:], Y:dataY[l]}) \n",
    "    total_correct += accuracy_val\n",
    "\n",
    "print('Accuracy {0}'.format(total_correct/len(testIdx)))\n",
    "sess.close()"
   ]
  },
  {
   "cell_type": "code",
   "execution_count": 618,
   "metadata": {
    "collapsed": false
   },
   "outputs": [
    {
     "data": {
      "text/plain": [
       "0.6195652186870575"
      ]
     },
     "execution_count": 618,
     "metadata": {},
     "output_type": "execute_result"
    }
   ],
   "source": [
    "1-dataY[testIdx].mean()"
   ]
  }
 ],
 "metadata": {
  "kernelspec": {
   "display_name": "Python 2.7 (no Spark)",
   "language": "python2",
   "name": "python2"
  },
  "language_info": {
   "codemirror_mode": {
    "name": "ipython",
    "version": 2
   },
   "file_extension": ".py",
   "mimetype": "text/x-python",
   "name": "python",
   "nbconvert_exporter": "python",
   "pygments_lexer": "ipython2",
   "version": "2.7.13"
  },
  "toc": {
   "nav_menu": {},
   "number_sections": true,
   "sideBar": true,
   "skip_h1_title": false,
   "toc_cell": false,
   "toc_position": {},
   "toc_section_display": "block",
   "toc_window_display": false
  }
 },
 "nbformat": 4,
 "nbformat_minor": 2
}
