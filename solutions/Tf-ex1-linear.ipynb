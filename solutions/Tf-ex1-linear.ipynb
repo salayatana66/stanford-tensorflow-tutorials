{
 "cells": [
  {
   "cell_type": "code",
   "execution_count": 1,
   "metadata": {
    "collapsed": true
   },
   "outputs": [],
   "source": [
    "\"\"\" Simple linear regression example in TensorFlow\n",
    "This program tries to predict the number of thefts from \n",
    "the number of fire in the city of Chicago\n",
    "Author: Chip Huyen\n",
    "Prepared for the class CS 20SI: \"TensorFlow for Deep Learning Research\"\n",
    "cs20si.stanford.edu\n",
    "\"\"\"\n",
    "import os\n",
    "os.environ['TF_CPP_MIN_LOG_LEVEL']='2'\n",
    "\n",
    "import numpy as np\n",
    "import matplotlib.pyplot as plt\n",
    "import tensorflow as tf\n",
    "import xlrd"
   ]
  },
  {
   "cell_type": "code",
   "execution_count": 4,
   "metadata": {
    "collapsed": false
   },
   "outputs": [],
   "source": [
    "DATA_FILE = '/home/aschioppa/slr05.xls'\n",
    "\n",
    "# Phase 1: Assemble the graph\n",
    "# Step 1: read in data from the .xls file\n",
    "book = xlrd.open_workbook(DATA_FILE, encoding_override='utf-8')\n",
    "sheet = book.sheet_by_index(0)\n",
    "data = np.asarray([sheet.row_values(i) for i in range(1, sheet.nrows)])\n",
    "n_samples = sheet.nrows - 1"
   ]
  },
  {
   "cell_type": "code",
   "execution_count": 27,
   "metadata": {
    "collapsed": true
   },
   "outputs": [],
   "source": [
    "# Step 2: create placeholders for input X (number of fire) and label Y (number of theft)\n",
    "# Both have the type float32\n",
    "X = tf.placeholder(tf.float32,name='X')\n",
    "Y = tf.placeholder(tf.float32, name = 'Y')"
   ]
  },
  {
   "cell_type": "code",
   "execution_count": 28,
   "metadata": {
    "collapsed": true
   },
   "outputs": [],
   "source": [
    "# Step 3: create weight and bias, initialized to 0\n",
    "# name your variables w and b\n",
    "w = tf.Variable(0,name='w',dtype=tf.float32)\n",
    "b = tf.Variable(0,name='b',dtype=tf.float32)"
   ]
  },
  {
   "cell_type": "code",
   "execution_count": 29,
   "metadata": {
    "collapsed": false
   },
   "outputs": [],
   "source": [
    "# Step 4: predict Y (number of theft) from the number of fire\n",
    "# name your variable Y_predicted\n",
    "Y_predicted = w*X + b"
   ]
  },
  {
   "cell_type": "code",
   "execution_count": 30,
   "metadata": {
    "collapsed": true
   },
   "outputs": [],
   "source": [
    "# Step 5: use the square error as the loss function\n",
    "# name your variable loss\n",
    "loss = tf.square(Y-Y_predicted, name = 'loss')"
   ]
  },
  {
   "cell_type": "code",
   "execution_count": 31,
   "metadata": {
    "collapsed": true
   },
   "outputs": [],
   "source": [
    "optimizer = tf.train.GradientDescentOptimizer(learning_rate = 0.001).minimize(loss)"
   ]
  },
  {
   "cell_type": "code",
   "execution_count": 34,
   "metadata": {
    "collapsed": false
   },
   "outputs": [
    {
     "name": "stdout",
     "output_type": "stream",
     "text": [
      "Epoch 0: 2069.6319334\n",
      "Epoch 1: 2117.0123582\n",
      "Epoch 2: 2092.302723\n",
      "Epoch 3: 2068.50804619\n",
      "Epoch 4: 2045.59118409\n",
      "Epoch 5: 2023.51464481\n",
      "Epoch 6: 2002.24476198\n",
      "Epoch 7: 1981.7483388\n",
      "Epoch 8: 1961.99444113\n",
      "Epoch 9: 1942.95201161\n",
      "Epoch 10: 1924.59308236\n",
      "Epoch 11: 1906.88988006\n",
      "Epoch 12: 1889.81645058\n",
      "Epoch 13: 1873.34713384\n",
      "Epoch 14: 1857.45884006\n",
      "Epoch 15: 1842.12787424\n",
      "Epoch 16: 1827.33249512\n",
      "Epoch 17: 1813.05205797\n",
      "Epoch 18: 1799.26608476\n",
      "Epoch 19: 1785.95621323\n",
      "Epoch 20: 1773.10248531\n",
      "Epoch 21: 1760.68912948\n",
      "Epoch 22: 1748.69841571\n",
      "Epoch 23: 1737.11386804\n",
      "Epoch 24: 1725.92087307\n",
      "Epoch 25: 1715.10462496\n",
      "Epoch 26: 1704.65009543\n",
      "Epoch 27: 1694.54471349\n",
      "Epoch 28: 1684.77463113\n",
      "Epoch 29: 1675.32845097\n",
      "Epoch 30: 1666.19353858\n",
      "Epoch 31: 1657.35840021\n",
      "Epoch 32: 1648.81226585\n",
      "Epoch 33: 1640.54407425\n",
      "Epoch 34: 1632.54468361\n",
      "Epoch 35: 1624.80433151\n",
      "Epoch 36: 1617.31268\n",
      "Epoch 37: 1610.06225325\n",
      "Epoch 38: 1603.04335572\n",
      "Epoch 39: 1596.24791761\n",
      "Epoch 40: 1589.66805633\n",
      "Epoch 41: 1583.29652426\n",
      "Epoch 42: 1577.12637129\n",
      "Epoch 43: 1571.15011906\n",
      "Epoch 44: 1565.36097915\n",
      "Epoch 45: 1559.75237808\n",
      "Epoch 46: 1554.31843646\n",
      "Epoch 47: 1549.05294696\n",
      "Epoch 48: 1543.95005999\n",
      "Epoch 49: 1539.00502821\n",
      "1.99747 12.5687\n"
     ]
    }
   ],
   "source": [
    "# Phase 2: Train our model\n",
    "with tf.Session() as sess:\n",
    "    # Step 7: initialize the necessary variables, in this case, w and b\n",
    "    sess.run(tf.global_variables_initializer())\n",
    "\n",
    "\n",
    "    # Step 8: train the model\n",
    "    for i in range(50): # run 100 epochs\n",
    "        total_loss = 0\n",
    "        for x, y in data:\n",
    "            _, l = sess.run([optimizer,loss], feed_dict = {X:x, Y:y})\n",
    "            total_loss += l#\n",
    "        print(\"Epoch {0}: {1}\".format(i, total_loss/n_samples))\n",
    "    w_final,b_final = sess.run([w,b])\n",
    "    print w_final, b_final"
   ]
  },
  {
   "cell_type": "code",
   "execution_count": 35,
   "metadata": {
    "collapsed": false
   },
   "outputs": [
    {
     "data": {
      "image/png": "[encoded data removed]",
      "text/plain": [
       "<matplotlib.figure.Figure at 0x7fb570903dd0>"
      ]
     },
     "metadata": {},
     "output_type": "display_data"
    }
   ],
   "source": [
    "#plot the results\n",
    "%matplotlib inline\n",
    "new_X, new_Y = data.T[0], data.T[1]\n",
    "plt.plot(new_X, new_Y, 'bo', label='Real data')\n",
    "plt.plot(new_X, new_X * w_final + b_final, 'r', label='Predicted data')\n",
    "plt.legend()\n",
    "plt.show()\n"
   ]
  },
  {
   "cell_type": "code",
   "execution_count": 36,
   "metadata": {
    "collapsed": true
   },
   "outputs": [],
   "source": [
    "# let's use huber loss"
   ]
  },
  {
   "cell_type": "code",
   "execution_count": 57,
   "metadata": {
    "collapsed": true
   },
   "outputs": [],
   "source": [
    "def huber_loss(labels, predictions, delta=1.0):\n",
    "    delta = tf.constant(delta,tf.float32)\n",
    "    residual = tf.subtract(labels,predictions)\n",
    "    abs_residual = tf.abs(residual)\n",
    "    small_res = .5 * tf.square(residual)\n",
    "    large_res = tf.subtract(delta*abs_residual, .5*tf.square(delta))\n",
    "    \n",
    "    return tf.where(abs_residual > delta, small_res,  large_res)"
   ]
  },
  {
   "cell_type": "code",
   "execution_count": 58,
   "metadata": {
    "collapsed": false
   },
   "outputs": [],
   "source": [
    "huberLoss = huber_loss(Y, Y_predicted)"
   ]
  },
  {
   "cell_type": "code",
   "execution_count": 59,
   "metadata": {
    "collapsed": true
   },
   "outputs": [],
   "source": [
    "huberOptimizer = tf.train.GradientDescentOptimizer(learning_rate = 0.001).minimize(huberLoss)"
   ]
  },
  {
   "cell_type": "code",
   "execution_count": 61,
   "metadata": {
    "collapsed": false
   },
   "outputs": [
    {
     "name": "stdout",
     "output_type": "stream",
     "text": [
      "Epoch 0: 1025.26030228\n",
      "Epoch 1: 939.389936989\n",
      "Epoch 2: 935.149609429\n",
      "Epoch 3: 931.019002411\n",
      "Epoch 4: 926.991606231\n",
      "Epoch 5: 923.06474095\n",
      "Epoch 6: 919.235555457\n",
      "Epoch 7: 914.951469224\n",
      "Epoch 8: 911.330089806\n",
      "Epoch 9: 907.798389908\n",
      "Epoch 10: 904.353900828\n",
      "Epoch 11: 900.994242887\n",
      "Epoch 12: 897.720732267\n",
      "Epoch 13: 894.521964577\n",
      "Epoch 14: 891.378549584\n",
      "Epoch 15: 888.312045609\n",
      "Epoch 16: 885.320476947\n",
      "Epoch 17: 882.401968549\n",
      "Epoch 18: 879.554415191\n",
      "Epoch 19: 876.524295773\n",
      "Epoch 20: 873.830689391\n",
      "Epoch 21: 871.20229757\n",
      "Epoch 22: 868.637356983\n",
      "Epoch 23: 866.134317778\n",
      "Epoch 24: 863.691880324\n",
      "Epoch 25: 861.317615252\n",
      "Epoch 26: 858.995314709\n",
      "Epoch 27: 856.713835134\n",
      "Epoch 28: 854.486341893\n",
      "Epoch 29: 852.310982485\n",
      "Epoch 30: 850.186992812\n",
      "Epoch 31: 848.112713445\n",
      "Epoch 32: 845.955728062\n",
      "Epoch 33: 844.000408589\n",
      "Epoch 34: 842.090331838\n",
      "Epoch 35: 840.224794374\n",
      "Epoch 36: 838.402189106\n",
      "Epoch 37: 836.621948146\n",
      "Epoch 38: 834.882691517\n",
      "Epoch 39: 833.18282393\n",
      "Epoch 40: 831.515286233\n",
      "Epoch 41: 829.887108107\n",
      "Epoch 42: 828.297424359\n",
      "Epoch 43: 826.745315486\n",
      "Epoch 44: 825.233479256\n",
      "Epoch 45: 823.757485424\n",
      "Epoch 46: 822.314975748\n",
      "Epoch 47: 820.905206045\n",
      "Epoch 48: 819.527305135\n",
      "Epoch 49: 818.180557534\n",
      "1.86165 8.68393\n"
     ]
    }
   ],
   "source": [
    "# Phase 2: Train our model\n",
    "with tf.Session() as sess:\n",
    "    # Step 7: initialize the necessary variables, in this case, w and b\n",
    "    sess.run(tf.global_variables_initializer())\n",
    "\n",
    "\n",
    "    # Step 8: train the model\n",
    "    for i in range(50): # run 100 epochs\n",
    "        total_loss = 0\n",
    "        for x, y in data:\n",
    "            _, l = sess.run([huberOptimizer,loss], feed_dict = {X:x, Y:y})\n",
    "            total_loss += l#\n",
    "        print(\"Epoch {0}: {1}\".format(i, total_loss/n_samples))\n",
    "    w_final,b_final = sess.run([w,b])\n",
    "    print w_final, b_final"
   ]
  },
  {
   "cell_type": "code",
   "execution_count": 62,
   "metadata": {
    "collapsed": false
   },
   "outputs": [
    {
     "data": {
      "image/png": "[encoded data removed]",
      "text/plain": [
       "<matplotlib.figure.Figure at 0x7fb57027c450>"
      ]
     },
     "metadata": {},
     "output_type": "display_data"
    }
   ],
   "source": [
    "#plot the results\n",
    "%matplotlib inline\n",
    "new_X, new_Y = data.T[0], data.T[1]\n",
    "plt.plot(new_X, new_Y, 'bo', label='Real data')\n",
    "plt.plot(new_X, new_X * w_final + b_final, 'r', label='Predicted data')\n",
    "plt.legend()\n",
    "plt.show()"
   ]
  },
  {
   "cell_type": "code",
   "execution_count": null,
   "metadata": {
    "collapsed": true
   },
   "outputs": [],
   "source": []
  }
 ],
 "metadata": {
  "kernelspec": {
   "display_name": "Python 2.7 (no Spark)",
   "language": "python2",
   "name": "python2"
  },
  "language_info": {
   "codemirror_mode": {
    "name": "ipython",
    "version": 2
   },
   "file_extension": ".py",
   "mimetype": "text/x-python",
   "name": "python",
   "nbconvert_exporter": "python",
   "pygments_lexer": "ipython2",
   "version": "2.7.13"
  },
  "toc": {
   "nav_menu": {},
   "number_sections": true,
   "sideBar": true,
   "skip_h1_title": false,
   "toc_cell": false,
   "toc_position": {},
   "toc_section_display": "block",
   "toc_window_display": false
  }
 },
 "nbformat": 4,
 "nbformat_minor": 2
}
